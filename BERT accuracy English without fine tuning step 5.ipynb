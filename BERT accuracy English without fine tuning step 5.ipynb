{
 "cells": [
  {
   "cell_type": "code",
   "execution_count": 2,
   "id": "4a7cd5f9-2eeb-4e6f-8cdf-384ec802257d",
   "metadata": {},
   "outputs": [
    {
     "name": "stdout",
     "output_type": "stream",
     "text": [
      "Dataset loaded with 2344 rows.\n",
      "Accuracy: 0.8340443686006825\n",
      "\n",
      "Classification Report:\n",
      "               precision    recall  f1-score   support\n",
      "\n",
      "    Negative       0.81      0.87      0.84       713\n",
      "     Neutral       0.87      0.64      0.74       635\n",
      "    Positive       0.83      0.93      0.88       996\n",
      "\n",
      "    accuracy                           0.83      2344\n",
      "   macro avg       0.84      0.81      0.82      2344\n",
      "weighted avg       0.84      0.83      0.83      2344\n",
      "\n",
      "\n",
      "Confusion Matrix:\n",
      " [[623  32  58]\n",
      " [101 408 126]\n",
      " [ 44  28 924]]\n",
      "Comparison results saved to '/Users/feysal/Downloads/bert_sentiment_comparison.csv'.\n"
     ]
    }
   ],
   "source": [
    "import pandas as pd\n",
    "from sklearn.metrics import classification_report, confusion_matrix, accuracy_score\n",
    "\n",
    "# Step 1: Load the Dataset\n",
    "file_path = \"/Users/feysal/Downloads/sample_english_with_real_sentiment - sample_english_with_real_sentiment.csv.csv\"\n",
    "data = pd.read_csv(file_path)\n",
    "print(f\"Dataset loaded with {len(data)} rows.\")\n",
    "\n",
    "# Step 2: Map Sentiment Scores (1-5) to -1, 0, 1\n",
    "def map_bert_sentiment(score):\n",
    "    \"\"\"\n",
    "    Map BERT sentiment scores to -1, 0, 1:\n",
    "    1-2 -> -1 (Negative)\n",
    "    3 -> 0 (Neutral)\n",
    "    4-5 -> 1 (Positive)\n",
    "    \"\"\"\n",
    "    if score in [1, 2]:\n",
    "        return -1\n",
    "    elif score == 3:\n",
    "        return 0\n",
    "    elif score in [4, 5]:\n",
    "        return 1\n",
    "\n",
    "# Apply mapping function\n",
    "data['Mapped Sentiment'] = data['sentiment_score'].apply(map_bert_sentiment)\n",
    "\n",
    "# Step 3: Compare Mapped Sentiment with Real Sentiment\n",
    "real_sentiment = data['real_sentiment']\n",
    "predicted_sentiment = data['Mapped Sentiment']\n",
    "\n",
    "# Step 4: Calculate Evaluation Metrics\n",
    "accuracy = accuracy_score(real_sentiment, predicted_sentiment)\n",
    "report = classification_report(real_sentiment, predicted_sentiment, target_names=[\"Negative\", \"Neutral\", \"Positive\"])\n",
    "conf_matrix = confusion_matrix(real_sentiment, predicted_sentiment)\n",
    "\n",
    "# Step 5: Display Results\n",
    "print(f\"Accuracy: {accuracy}\")\n",
    "print(\"\\nClassification Report:\\n\", report)\n",
    "print(\"\\nConfusion Matrix:\\n\", conf_matrix)\n",
    "\n",
    "# Step 6: Save Results for Inspection (Optional)\n",
    "data.to_csv(\"/Users/feysal/Downloads/bert_sentiment_comparison.csv\", index=False)\n",
    "print(\"Comparison results saved to '/Users/feysal/Downloads/bert_sentiment_comparison.csv'.\")"
   ]
  },
  {
   "cell_type": "code",
   "execution_count": null,
   "id": "7d5f6b66-88a0-4563-aff9-543887aa3f74",
   "metadata": {},
   "outputs": [],
   "source": []
  }
 ],
 "metadata": {
  "kernelspec": {
   "display_name": "Python [conda env:base] *",
   "language": "python",
   "name": "conda-base-py"
  },
  "language_info": {
   "codemirror_mode": {
    "name": "ipython",
    "version": 3
   },
   "file_extension": ".py",
   "mimetype": "text/x-python",
   "name": "python",
   "nbconvert_exporter": "python",
   "pygments_lexer": "ipython3",
   "version": "3.12.7"
  }
 },
 "nbformat": 4,
 "nbformat_minor": 5
}
