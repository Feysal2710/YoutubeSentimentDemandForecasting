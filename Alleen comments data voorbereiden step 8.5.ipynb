{
 "cells": [
  {
   "cell_type": "code",
   "execution_count": 2,
   "id": "a5dbd994-24b3-4de7-97df-6f2c4c855a89",
   "metadata": {},
   "outputs": [
    {
     "name": "stdout",
     "output_type": "stream",
     "text": [
      "        Car Model  YYYY-MM  like_weighted_sentiment\n",
      "0  Audi Q4 E-tron  2021-06                   1489.0\n",
      "1  Audi Q4 E-tron  2021-07                      5.0\n",
      "2  Audi Q4 E-tron  2021-08                     13.0\n",
      "3  Audi Q4 E-tron  2021-09                    -28.0\n",
      "4  Audi Q4 E-tron  2021-10                      5.0\n"
     ]
    }
   ],
   "source": [
    "import pandas as pd\n",
    "\n",
    "# Load your data\n",
    "df = pd.read_csv(\"prepare_comments_data_for_lightgbm_may - combined_comments_with_like_weighted_sentiment.csv\")\n",
    "# If the column is not already present, extract year-month from the timestamp\n",
    "df['YYYY-MM'] = df['Published At'].str.slice(0, 7)\n",
    "\n",
    "# Group by Car Model and YYYY-MM and sum the like_weighted_sentiment\n",
    "summary = df.groupby(['Car Model', 'YYYY-MM'])['like_weighted_sentiment'].sum().reset_index()\n",
    "\n",
    "# Show the result\n",
    "print(summary.head())"
   ]
  },
  {
   "cell_type": "code",
   "execution_count": 11,
   "id": "2ab091f2-acc7-460d-ab90-cf501b6f660f",
   "metadata": {},
   "outputs": [],
   "source": [
    "# Sort the summary by Car Model and Date\n",
    "summary = summary.sort_values(by=['Car Model', 'YYYY-MM'])\n",
    "\n",
    "# Add cumulative like_weighted_sentiment per Car Model\n",
    "summary['cumulative_like_weighted_sentiment'] = summary.groupby('Car Model')['like_weighted_sentiment'].cumsum()"
   ]
  },
  {
   "cell_type": "code",
   "execution_count": 13,
   "id": "e01d112b-4734-44ba-ae8a-a97c9386d351",
   "metadata": {},
   "outputs": [],
   "source": [
    "summary.to_csv(\"prepared_comments_data_for_lightgbm_part_2.csv\", index=False)"
   ]
  },
  {
   "cell_type": "code",
   "execution_count": 15,
   "id": "f09bd0ec-8011-49a0-8f05-225ecf4d9741",
   "metadata": {},
   "outputs": [],
   "source": [
    "# Filter out rows from 2024-12 and 2025-01\n",
    "summary = summary[~summary['YYYY-MM'].isin(['2024-12', '2025-01'])]\n",
    "\n",
    "# Save the cleaned result to CSV\n",
    "summary.to_csv(\"prepared_comments_data_for_lightgbm_part_2.csv\", index=False)"
   ]
  },
  {
   "cell_type": "code",
   "execution_count": 25,
   "id": "b06c81d2-b0f4-44ab-b2ef-b7fdb0c24015",
   "metadata": {},
   "outputs": [
    {
     "name": "stdout",
     "output_type": "stream",
     "text": [
      "         Car Model Tenaamstelling YYYY-MM  registrations\n",
      "0   AUDI Q4 E-TRON                2021-11             31\n",
      "1   AUDI Q4 E-TRON                2021-12           1202\n",
      "2   AUDI Q4 E-TRON                2022-01            119\n",
      "3   AUDI Q4 E-TRON                2022-02            310\n",
      "4   AUDI Q4 E-TRON                2022-03            462\n",
      "5   AUDI Q4 E-TRON                2022-04            236\n",
      "6   AUDI Q4 E-TRON                2022-05            305\n",
      "7   AUDI Q4 E-TRON                2022-06            359\n",
      "8   AUDI Q4 E-TRON                2022-07            163\n",
      "9   AUDI Q4 E-TRON                2022-08            116\n",
      "10  AUDI Q4 E-TRON                2022-09            132\n",
      "11  AUDI Q4 E-TRON                2022-10            234\n",
      "12  AUDI Q4 E-TRON                2022-11            270\n",
      "13  AUDI Q4 E-TRON                2022-12           1073\n",
      "14  AUDI Q4 E-TRON                2023-01             80\n",
      "15  AUDI Q4 E-TRON                2023-02            265\n",
      "16  AUDI Q4 E-TRON                2023-03            434\n",
      "17  AUDI Q4 E-TRON                2023-04            299\n",
      "18  AUDI Q4 E-TRON                2023-05            345\n",
      "19  AUDI Q4 E-TRON                2023-06            257\n",
      "20  AUDI Q4 E-TRON                2023-07            202\n",
      "21  AUDI Q4 E-TRON                2023-08            222\n",
      "22  AUDI Q4 E-TRON                2023-09            296\n",
      "23  AUDI Q4 E-TRON                2023-10            349\n",
      "24  AUDI Q4 E-TRON                2023-11            116\n",
      "25  AUDI Q4 E-TRON                2023-12             86\n",
      "26  AUDI Q4 E-TRON                2024-01            206\n",
      "27  AUDI Q4 E-TRON                2024-02            156\n",
      "28  AUDI Q4 E-TRON                2024-03            192\n",
      "29  AUDI Q4 E-TRON                2024-04            211\n",
      "30  AUDI Q4 E-TRON                2024-05            399\n",
      "31  AUDI Q4 E-TRON                2024-06            256\n",
      "32  AUDI Q4 E-TRON                2024-07            200\n",
      "33  AUDI Q4 E-TRON                2024-08            272\n",
      "34  AUDI Q4 E-TRON                2024-09            569\n",
      "35  AUDI Q4 E-TRON                2024-10            587\n",
      "36  AUDI Q4 E-TRON                2024-11            753\n"
     ]
    }
   ],
   "source": [
    "# Load your RDW registration data\n",
    "df = pd.read_csv(\"final_rdw_car_model_tenaamstelling.csv\")  # adjust if needed\n",
    "\n",
    "# Group by Car Model and Tenaamstelling YYYY-MM and count registrations\n",
    "registrations = df.groupby(['Car Model', 'Tenaamstelling YYYY-MM']).size().reset_index(name='registrations')\n",
    "\n",
    "# Sort values for clarity (optional)\n",
    "registrations = registrations.sort_values(by=['Car Model', 'Tenaamstelling YYYY-MM'])\n",
    "\n",
    "registrations.to_csv(\"final_rdw_car_model_tenaamstelling.csv\", index=False)\n",
    "\n",
    "# Show result\n",
    "print(registrations.head(37))"
   ]
  },
  {
   "cell_type": "code",
   "execution_count": null,
   "id": "643bee6f-583d-420a-9abb-90443cba1746",
   "metadata": {},
   "outputs": [],
   "source": []
  }
 ],
 "metadata": {
  "kernelspec": {
   "display_name": "Python [conda env:base] *",
   "language": "python",
   "name": "conda-base-py"
  },
  "language_info": {
   "codemirror_mode": {
    "name": "ipython",
    "version": 3
   },
   "file_extension": ".py",
   "mimetype": "text/x-python",
   "name": "python",
   "nbconvert_exporter": "python",
   "pygments_lexer": "ipython3",
   "version": "3.12.7"
  }
 },
 "nbformat": 4,
 "nbformat_minor": 5
}
