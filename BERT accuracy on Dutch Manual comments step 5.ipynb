{
 "cells": [
  {
   "cell_type": "code",
   "execution_count": 4,
   "id": "fee9886d-fdb7-43fa-a274-ee812d28b8b9",
   "metadata": {},
   "outputs": [
    {
     "name": "stdout",
     "output_type": "stream",
     "text": [
      "\n",
      "Accuracy: 0.6361\n",
      "\n",
      "Classification Report:\n",
      "               precision    recall  f1-score   support\n",
      "\n",
      "          -1       0.69      0.71      0.70       419\n",
      "           0       0.65      0.42      0.51       359\n",
      "           1       0.56      0.81      0.67       258\n",
      "\n",
      "    accuracy                           0.64      1036\n",
      "   macro avg       0.63      0.65      0.63      1036\n",
      "weighted avg       0.64      0.64      0.63      1036\n",
      "\n",
      "\n",
      "Confusion Matrix:\n",
      " [[299  57  63]\n",
      " [110 151  98]\n",
      " [ 24  25 209]]\n"
     ]
    }
   ],
   "source": [
    "import pandas as pd\n",
    "from sklearn.metrics import accuracy_score, classification_report, confusion_matrix\n",
    "\n",
    "# Load your dataset (replace with your file path if needed)\n",
    "df = pd.read_csv('/Users/feysal/Downloads/Dutch_sample_manually_labelled - dutch_comments_with_mapped_sentiment.csv')\n",
    "\n",
    "# Drop rows with missing values in either sentiment column\n",
    "df_clean = df.dropna(subset=[\"real_sentiment\", \"mapped_sentiment\"])\n",
    "\n",
    "# Ensure sentiment columns are integers\n",
    "y_true = df_clean[\"real_sentiment\"].astype(int)\n",
    "y_pred = df_clean[\"mapped_sentiment\"].astype(int)\n",
    "\n",
    "# Accuracy\n",
    "accuracy = accuracy_score(y_true, y_pred)\n",
    "print(f\"\\nAccuracy: {accuracy:.4f}\")\n",
    "\n",
    "# Classification Report\n",
    "report = classification_report(y_true, y_pred, digits=2)\n",
    "print(\"\\nClassification Report:\\n\", report)\n",
    "\n",
    "# Confusion Matrix\n",
    "conf_matrix = confusion_matrix(y_true, y_pred)\n",
    "print(\"\\nConfusion Matrix:\\n\", conf_matrix)"
   ]
  },
  {
   "cell_type": "code",
   "execution_count": null,
   "id": "743f6634-6568-4e70-8d63-ffbc0b782b34",
   "metadata": {},
   "outputs": [],
   "source": []
  }
 ],
 "metadata": {
  "kernelspec": {
   "display_name": "Python [conda env:deeplearning]",
   "language": "python",
   "name": "conda-env-deeplearning-py"
  },
  "language_info": {
   "codemirror_mode": {
    "name": "ipython",
    "version": 3
   },
   "file_extension": ".py",
   "mimetype": "text/x-python",
   "name": "python",
   "nbconvert_exporter": "python",
   "pygments_lexer": "ipython3",
   "version": "3.10.16"
  }
 },
 "nbformat": 4,
 "nbformat_minor": 5
}
